{
 "cells": [
  {
   "cell_type": "markdown",
   "metadata": {},
   "source": [
    "\n",
    "# HMI data\n",
    "How to search for HMI data.\n",
    "\n",
    "This example shows how to search for, download, and load HMI data, using the\n",
    "`sunpy.net.Fido` interface. HMI data is available via. the Joint Stanford\n",
    "Operations Center (`JSOC`_).\n",
    "\n",
    "The polar filled radial magnetic field synoptic maps\n",
    "are obtained using the 'hmi.synoptic_mr_polfil_720s' series keyword. Note that\n",
    "they are large (1440 x 720), so you will probably want to downsample them to\n",
    "a smaller resolution to use them to calculate PFSS solutions.\n",
    "\n",
    "For more information on the maps, see the `synoptic maps page`_ on the JSOC\n",
    "site.\n",
    "\n"
   ]
  },
  {
   "cell_type": "code",
   "execution_count": 1,
   "metadata": {},
   "outputs": [
    {
     "ename": "ModuleNotFoundError",
     "evalue": "No module named 'pfsspy'",
     "output_type": "error",
     "traceback": [
      "\u001b[0;31m---------------------------------------------------------------------------\u001b[0m",
      "\u001b[0;31mModuleNotFoundError\u001b[0m                       Traceback (most recent call last)",
      "Input \u001b[0;32mIn [1]\u001b[0m, in \u001b[0;36m<cell line: 7>\u001b[0;34m()\u001b[0m\n\u001b[1;32m      4\u001b[0m \u001b[38;5;28;01mfrom\u001b[39;00m \u001b[38;5;21;01msunpy\u001b[39;00m\u001b[38;5;21;01m.\u001b[39;00m\u001b[38;5;21;01mnet\u001b[39;00m \u001b[38;5;28;01mimport\u001b[39;00m Fido\n\u001b[1;32m      5\u001b[0m \u001b[38;5;28;01mfrom\u001b[39;00m \u001b[38;5;21;01msunpy\u001b[39;00m\u001b[38;5;21;01m.\u001b[39;00m\u001b[38;5;21;01mnet\u001b[39;00m \u001b[38;5;28;01mimport\u001b[39;00m attrs \u001b[38;5;28;01mas\u001b[39;00m a\n\u001b[0;32m----> 7\u001b[0m \u001b[38;5;28;01mimport\u001b[39;00m \u001b[38;5;21;01mpfsspy\u001b[39;00m\u001b[38;5;21;01m.\u001b[39;00m\u001b[38;5;21;01mutils\u001b[39;00m\n",
      "\u001b[0;31mModuleNotFoundError\u001b[0m: No module named 'pfsspy'"
     ]
    }
   ],
   "source": [
    "import os\n",
    "\n",
    "import sunpy.map\n",
    "from sunpy.net import Fido\n",
    "from sunpy.net import attrs as a\n",
    "\n",
    "import pfsspy.utils"
   ]
  },
  {
   "cell_type": "markdown",
   "metadata": {},
   "source": [
    "Set up the search.\n",
    "\n",
    "Note that for SunPy versions earlier than 2.0, a time attribute is needed to\n",
    "do the search, even if (in this case) it isn't used, as the synoptic maps are\n",
    "labelled by Carrington rotation number instead of time\n",
    "\n"
   ]
  },
  {
   "cell_type": "code",
   "execution_count": null,
   "metadata": {},
   "outputs": [],
   "source": [
    "time = a.Time('2010/01/01', '2010/01/01')\n",
    "series = a.jsoc.Series('hmi.synoptic_mr_polfil_720s')"
   ]
  },
  {
   "cell_type": "markdown",
   "metadata": {},
   "source": [
    "Do the search. This will return all the maps in the 'hmi_mrsynop_small_720s\n",
    "series.'\n",
    "\n"
   ]
  },
  {
   "cell_type": "code",
   "execution_count": null,
   "metadata": {},
   "outputs": [],
   "source": [
    "result = Fido.search(time, series)\n",
    "print(result)"
   ]
  },
  {
   "cell_type": "markdown",
   "metadata": {},
   "source": [
    "If we just want to download a specific map, we can specify a Carrington\n",
    "rotation number. In addition, downloading files from JSOC requires a\n",
    "notification email. If you use this code, please replace this email address\n",
    "with your own one, registered here:\n",
    "http://jsoc.stanford.edu/ajax/register_email.html\n",
    "\n"
   ]
  },
  {
   "cell_type": "code",
   "execution_count": null,
   "metadata": {},
   "outputs": [],
   "source": [
    "crot = a.jsoc.PrimeKey('CAR_ROT', 2210)\n",
    "result = Fido.search(time, series, crot,\n",
    "                     a.jsoc.Notify(os.environ['JSOC_EMAIL']))\n",
    "print(result)"
   ]
  },
  {
   "cell_type": "markdown",
   "metadata": {},
   "source": [
    "Download the files. This downloads files to the default sunpy download\n",
    "directory.\n",
    "\n"
   ]
  },
  {
   "cell_type": "code",
   "execution_count": null,
   "metadata": {},
   "outputs": [],
   "source": [
    "files = Fido.fetch(result)\n",
    "print(files)"
   ]
  },
  {
   "cell_type": "markdown",
   "metadata": {},
   "source": [
    "Read in a file. This will read in the first file downloaded to a sunpy Map\n",
    "object. Note that HMI maps have several bits of metadata that do not comply\n",
    "to the FITS standard, so we need to fix them first.\n",
    "\n"
   ]
  },
  {
   "cell_type": "code",
   "execution_count": null,
   "metadata": {},
   "outputs": [],
   "source": [
    "hmi_map = sunpy.map.Map(files[0])\n",
    "pfsspy.utils.fix_hmi_meta(hmi_map)\n",
    "hmi_map.peek()"
   ]
  }
 ],
 "metadata": {
  "kernelspec": {
   "display_name": "Python 3 (ipykernel)",
   "language": "python",
   "name": "python3"
  },
  "language_info": {
   "codemirror_mode": {
    "name": "ipython",
    "version": 3
   },
   "file_extension": ".py",
   "mimetype": "text/x-python",
   "name": "python",
   "nbconvert_exporter": "python",
   "pygments_lexer": "ipython3",
   "version": "3.10.12"
  }
 },
 "nbformat": 4,
 "nbformat_minor": 1
}
