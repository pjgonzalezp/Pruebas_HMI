{
 "cells": [
  {
   "cell_type": "markdown",
   "metadata": {},
   "source": [
    "\n",
    "# HMI data\n",
    "How to search for HMI data.\n",
    "\n",
    "This example shows how to search for, download, and load HMI data, using the\n",
    "`sunpy.net.Fido` interface. HMI data is available via. the Joint Stanford\n",
    "Operations Center (`JSOC`_).\n",
    "\n",
    "The polar filled radial magnetic field synoptic maps\n",
    "are obtained using the 'hmi.synoptic_mr_polfil_720s' series keyword. Note that\n",
    "they are large (1440 x 720), so you will probably want to downsample them to\n",
    "a smaller resolution to use them to calculate PFSS solutions.\n",
    "\n",
    "For more information on the maps, see the `synoptic maps page`_ on the JSOC\n",
    "site.\n",
    "\n"
   ]
  },
  {
   "cell_type": "code",
   "execution_count": 2,
   "metadata": {},
   "outputs": [],
   "source": [
    "import os\n",
    "\n",
    "import sunpy.map\n",
    "from sunpy.net import Fido\n",
    "from sunpy.net import attrs as a\n",
    "\n",
    "import pfsspy.utils"
   ]
  },
  {
   "cell_type": "markdown",
   "metadata": {},
   "source": [
    "Set up the search.\n",
    "\n",
    "Note that for SunPy versions earlier than 2.0, a time attribute is needed to\n",
    "do the search, even if (in this case) it isn't used, as the synoptic maps are\n",
    "labelled by Carrington rotation number instead of time\n",
    "\n"
   ]
  },
  {
   "cell_type": "code",
   "execution_count": 3,
   "metadata": {},
   "outputs": [],
   "source": [
    "time = a.Time('2010/01/01', '2010/01/01')\n",
    "series = a.jsoc.Series('hmi.synoptic_mr_polfil_720s')"
   ]
  },
  {
   "cell_type": "markdown",
   "metadata": {},
   "source": [
    "Do the search. This will return all the maps in the 'hmi_mrsynop_small_720s\n",
    "series.'\n",
    "\n"
   ]
  },
  {
   "cell_type": "code",
   "execution_count": 4,
   "metadata": {},
   "outputs": [
    {
     "name": "stdout",
     "output_type": "stream",
     "text": [
      "Results from 1 Provider:\n",
      "\n",
      "187 Results from the JSOCClient:\n",
      "Source: http://jsoc.stanford.edu\n",
      "\n",
      "TELESCOP  INSTRUME WAVELNTH CAR_ROT\n",
      "-------- --------- -------- -------\n",
      " SDO/HMI HMI_SIDE1   6173.0    2097\n",
      " SDO/HMI HMI_SIDE1   6173.0    2098\n",
      " SDO/HMI HMI_SIDE1   6173.0    2099\n",
      " SDO/HMI HMI_SIDE1   6173.0    2100\n",
      " SDO/HMI HMI_SIDE1   6173.0    2101\n",
      " SDO/HMI HMI_SIDE1   6173.0    2102\n",
      " SDO/HMI HMI_SIDE1   6173.0    2103\n",
      "     ...       ...      ...     ...\n",
      " SDO/HMI HMI_SIDE1   6173.0    2277\n",
      " SDO/HMI HMI_SIDE1   6173.0    2278\n",
      " SDO/HMI HMI_SIDE1   6173.0    2279\n",
      " SDO/HMI HMI_SIDE1   6173.0    2280\n",
      " SDO/HMI HMI_SIDE1   6173.0    2281\n",
      " SDO/HMI HMI_SIDE1   6173.0    2282\n",
      " SDO/HMI HMI_SIDE1   6173.0    2283\n",
      "Length = 187 rows\n",
      "\n",
      "\n"
     ]
    }
   ],
   "source": [
    "result = Fido.search(time, series)\n",
    "print(result)"
   ]
  },
  {
   "cell_type": "markdown",
   "metadata": {},
   "source": [
    "If we just want to download a specific map, we can specify a Carrington\n",
    "rotation number. In addition, downloading files from JSOC requires a\n",
    "notification email. If you use this code, please replace this email address\n",
    "with your own one, registered here:\n",
    "http://jsoc.stanford.edu/ajax/register_email.html\n",
    "\n"
   ]
  },
  {
   "cell_type": "code",
   "execution_count": 7,
   "metadata": {},
   "outputs": [
    {
     "name": "stdout",
     "output_type": "stream",
     "text": [
      "Results from 1 Provider:\n",
      "\n",
      "1 Results from the JSOCClient:\n",
      "Source: http://jsoc.stanford.edu\n",
      "\n",
      "TELESCOP  INSTRUME WAVELNTH CAR_ROT\n",
      "-------- --------- -------- -------\n",
      " SDO/HMI HMI_SIDE1   6173.0    2210\n",
      "\n",
      "\n"
     ]
    }
   ],
   "source": [
    "jsoc_email = a.jsoc.Notify(\"pjgonzalezp@unal.edu.co\")\n",
    "crot = a.jsoc.PrimeKey('CAR_ROT', 2210)\n",
    "result = Fido.search(time, series, crot,\n",
    "                     jsoc_email)\n",
    "print(result)"
   ]
  },
  {
   "cell_type": "markdown",
   "metadata": {},
   "source": [
    "Download the files. This downloads files to the default sunpy download\n",
    "directory.\n",
    "\n"
   ]
  },
  {
   "cell_type": "code",
   "execution_count": 8,
   "metadata": {},
   "outputs": [
    {
     "name": "stdout",
     "output_type": "stream",
     "text": [
      "Export request pending. [id=JSOC_20240527_000488_X_IN, status=2]\n",
      "Waiting for 0 seconds...\n",
      "1 URLs found for download. Full request totalling 4MB\n"
     ]
    },
    {
     "data": {
      "application/vnd.jupyter.widget-view+json": {
       "model_id": "88e37e790a7c4542b82945e4163ea6db",
       "version_major": 2,
       "version_minor": 0
      },
      "text/plain": [
       "Files Downloaded:   0%|          | 0/1 [00:00<?, ?file/s]"
      ]
     },
     "metadata": {},
     "output_type": "display_data"
    },
    {
     "data": {
      "application/vnd.jupyter.widget-view+json": {
       "model_id": "a0007659f28949128582eb2268c1bb95",
       "version_major": 2,
       "version_minor": 0
      },
      "text/plain": [
       "hmi.synoptic_mr_polfil_720s.2210.Mr_polfil.fits:   0%|          | 0.00/4.26M [00:00<?, ?B/s]"
      ]
     },
     "metadata": {},
     "output_type": "display_data"
    },
    {
     "name": "stdout",
     "output_type": "stream",
     "text": [
      "['/home/paula/sunpy/data/hmi.synoptic_mr_polfil_720s.2210.Mr_polfil.fits']\n"
     ]
    }
   ],
   "source": [
    "files = Fido.fetch(result)\n",
    "print(files)"
   ]
  },
  {
   "cell_type": "markdown",
   "metadata": {},
   "source": [
    "Read in a file. This will read in the first file downloaded to a sunpy Map\n",
    "object. Note that HMI maps have several bits of metadata that do not comply\n",
    "to the FITS standard, so we need to fix them first.\n",
    "\n"
   ]
  },
  {
   "cell_type": "code",
   "execution_count": null,
   "metadata": {},
   "outputs": [],
   "source": [
    "hmi_map = sunpy.map.Map(files[0])\n",
    "pfsspy.utils.fix_hmi_meta(hmi_map)\n",
    "hmi_map.peek()"
   ]
  }
 ],
 "metadata": {
  "kernelspec": {
   "display_name": "Python 3 (ipykernel)",
   "language": "python",
   "name": "python3"
  },
  "language_info": {
   "codemirror_mode": {
    "name": "ipython",
    "version": 3
   },
   "file_extension": ".py",
   "mimetype": "text/x-python",
   "name": "python",
   "nbconvert_exporter": "python",
   "pygments_lexer": "ipython3",
   "version": "3.10.12"
  }
 },
 "nbformat": 4,
 "nbformat_minor": 1
}
